{
  "nbformat": 4,
  "nbformat_minor": 0,
  "metadata": {
    "accelerator": "GPU",
    "colab": {
      "name": "INB_dataset.ipynb",
      "provenance": []
    },
    "kernelspec": {
      "display_name": "Python 3",
      "language": "python",
      "name": "python3"
    },
    "language_info": {
      "codemirror_mode": {
        "name": "ipython",
        "version": 3
      },
      "file_extension": ".py",
      "mimetype": "text/x-python",
      "name": "python",
      "nbconvert_exporter": "python",
      "pygments_lexer": "ipython3",
      "version": "3.6.6"
    }
  },
  "cells": [
    {
      "cell_type": "markdown",
      "metadata": {
        "id": "_NjMlibhBrk0"
      },
      "source": [
        "# Mass segmentation using INBreast dataset\n",
        "\n",
        "> Indented block\n",
        "\n",
        "\n",
        "\n",
        "\n",
        "\n"
      ]
    },
    {
      "cell_type": "code",
      "metadata": {
        "colab": {
          "base_uri": "https://localhost:8080/",
          "height": 1000
        },
        "id": "a6Y61xULBtQO",
        "outputId": "346ecf08-ed84-4290-af11-92b5830c12dc"
      },
      "source": [
        "!pip install google.colab\n",
        "  "
      ],
      "execution_count": null,
      "outputs": [
        {
          "output_type": "stream",
          "text": [
            "Collecting google.colab\n",
            "\u001b[?25l  Downloading https://files.pythonhosted.org/packages/70/9f/d3ec1275a089ec017f9c91af22ecd1e2fe738254b944e7a1f9528fcfacd0/google-colab-1.0.0.tar.gz (72kB)\n",
            "\u001b[K     |████████████████████████████████| 81kB 6.7MB/s \n",
            "\u001b[?25hCollecting google-auth~=1.4.0\n",
            "\u001b[?25l  Downloading https://files.pythonhosted.org/packages/56/80/369a47c28ce7d9be6a6973338133d073864d8efbb62747e414c34a3a5f4f/google_auth-1.4.2-py2.py3-none-any.whl (64kB)\n",
            "\u001b[K     |████████████████████████████████| 71kB 8.3MB/s \n",
            "\u001b[?25hCollecting ipykernel~=4.6.0\n",
            "\u001b[?25l  Downloading https://files.pythonhosted.org/packages/18/c3/76775a650cae2e3d9c033b26153583e61282692d9a3af12a3022d8f0cefa/ipykernel-4.6.1-py3-none-any.whl (104kB)\n",
            "\u001b[K     |████████████████████████████████| 112kB 25.2MB/s \n",
            "\u001b[?25hRequirement already satisfied: ipython~=5.5.0 in /usr/local/lib/python3.7/dist-packages (from google.colab) (5.5.0)\n",
            "Collecting notebook~=5.2.0\n",
            "\u001b[?25l  Downloading https://files.pythonhosted.org/packages/96/a2/d951ebb7855743f989287486ded73cd3f66915c3ecd9c5c5a0c7ca12377a/notebook-5.2.2-py2.py3-none-any.whl (8.0MB)\n",
            "\u001b[K     |████████████████████████████████| 8.0MB 19.8MB/s \n",
            "\u001b[?25hCollecting six~=1.12.0\n",
            "  Downloading https://files.pythonhosted.org/packages/73/fb/00a976f728d0d1fecfe898238ce23f502a721c0ac0ecfedb80e0d88c64e9/six-1.12.0-py2.py3-none-any.whl\n",
            "Collecting pandas~=0.24.0\n",
            "\u001b[?25l  Downloading https://files.pythonhosted.org/packages/22/e6/2d47835f91eb010036be207581fa113fb4e3822ec1b4bafb0d3d105fede6/pandas-0.24.2-cp37-cp37m-manylinux1_x86_64.whl (10.1MB)\n",
            "\u001b[K     |████████████████████████████████| 10.1MB 38.4MB/s \n",
            "\u001b[?25hCollecting portpicker~=1.2.0\n",
            "  Downloading https://files.pythonhosted.org/packages/49/2c/a75ef568273036aa61319a554164e6031e31708106ea6ca10e17265e1703/portpicker-1.2.0.tar.gz\n",
            "Collecting requests~=2.21.0\n",
            "\u001b[?25l  Downloading https://files.pythonhosted.org/packages/7d/e3/20f3d364d6c8e5d2353c72a67778eb189176f08e873c9900e10c0287b84b/requests-2.21.0-py2.py3-none-any.whl (57kB)\n",
            "\u001b[K     |████████████████████████████████| 61kB 8.4MB/s \n",
            "\u001b[?25hCollecting tornado~=4.5.0\n",
            "\u001b[?25l  Downloading https://files.pythonhosted.org/packages/e3/7b/e29ab3d51c8df66922fea216e2bddfcb6430fb29620e5165b16a216e0d3c/tornado-4.5.3.tar.gz (484kB)\n",
            "\u001b[K     |████████████████████████████████| 491kB 41.3MB/s \n",
            "\u001b[?25hRequirement already satisfied: pyasn1-modules>=0.2.1 in /usr/local/lib/python3.7/dist-packages (from google-auth~=1.4.0->google.colab) (0.2.8)\n",
            "Requirement already satisfied: rsa>=3.1.4 in /usr/local/lib/python3.7/dist-packages (from google-auth~=1.4.0->google.colab) (4.7.2)\n",
            "Requirement already satisfied: cachetools>=2.0.0 in /usr/local/lib/python3.7/dist-packages (from google-auth~=1.4.0->google.colab) (4.2.2)\n",
            "Requirement already satisfied: jupyter-client in /usr/local/lib/python3.7/dist-packages (from ipykernel~=4.6.0->google.colab) (5.3.5)\n",
            "Requirement already satisfied: traitlets>=4.1.0 in /usr/local/lib/python3.7/dist-packages (from ipykernel~=4.6.0->google.colab) (5.0.5)\n",
            "Requirement already satisfied: pygments in /usr/local/lib/python3.7/dist-packages (from ipython~=5.5.0->google.colab) (2.6.1)\n",
            "Requirement already satisfied: decorator in /usr/local/lib/python3.7/dist-packages (from ipython~=5.5.0->google.colab) (4.4.2)\n",
            "Requirement already satisfied: simplegeneric>0.8 in /usr/local/lib/python3.7/dist-packages (from ipython~=5.5.0->google.colab) (0.8.1)\n",
            "Requirement already satisfied: pickleshare in /usr/local/lib/python3.7/dist-packages (from ipython~=5.5.0->google.colab) (0.7.5)\n",
            "Requirement already satisfied: prompt-toolkit<2.0.0,>=1.0.4 in /usr/local/lib/python3.7/dist-packages (from ipython~=5.5.0->google.colab) (1.0.18)\n",
            "Requirement already satisfied: setuptools>=18.5 in /usr/local/lib/python3.7/dist-packages (from ipython~=5.5.0->google.colab) (57.0.0)\n",
            "Requirement already satisfied: pexpect; sys_platform != \"win32\" in /usr/local/lib/python3.7/dist-packages (from ipython~=5.5.0->google.colab) (4.8.0)\n",
            "Requirement already satisfied: jupyter-core in /usr/local/lib/python3.7/dist-packages (from notebook~=5.2.0->google.colab) (4.7.1)\n",
            "Requirement already satisfied: nbformat in /usr/local/lib/python3.7/dist-packages (from notebook~=5.2.0->google.colab) (5.1.3)\n",
            "Requirement already satisfied: nbconvert in /usr/local/lib/python3.7/dist-packages (from notebook~=5.2.0->google.colab) (5.6.1)\n",
            "Requirement already satisfied: terminado>=0.3.3; sys_platform != \"win32\" in /usr/local/lib/python3.7/dist-packages (from notebook~=5.2.0->google.colab) (0.10.1)\n",
            "Requirement already satisfied: jinja2 in /usr/local/lib/python3.7/dist-packages (from notebook~=5.2.0->google.colab) (2.11.3)\n",
            "Requirement already satisfied: ipython-genutils in /usr/local/lib/python3.7/dist-packages (from notebook~=5.2.0->google.colab) (0.2.0)\n",
            "Requirement already satisfied: pytz>=2011k in /usr/local/lib/python3.7/dist-packages (from pandas~=0.24.0->google.colab) (2018.9)\n",
            "Requirement already satisfied: numpy>=1.12.0 in /usr/local/lib/python3.7/dist-packages (from pandas~=0.24.0->google.colab) (1.19.5)\n",
            "Requirement already satisfied: python-dateutil>=2.5.0 in /usr/local/lib/python3.7/dist-packages (from pandas~=0.24.0->google.colab) (2.8.1)\n",
            "Requirement already satisfied: chardet<3.1.0,>=3.0.2 in /usr/local/lib/python3.7/dist-packages (from requests~=2.21.0->google.colab) (3.0.4)\n",
            "Requirement already satisfied: urllib3<1.25,>=1.21.1 in /usr/local/lib/python3.7/dist-packages (from requests~=2.21.0->google.colab) (1.24.3)\n",
            "Requirement already satisfied: certifi>=2017.4.17 in /usr/local/lib/python3.7/dist-packages (from requests~=2.21.0->google.colab) (2021.5.30)\n",
            "Collecting idna<2.9,>=2.5\n",
            "\u001b[?25l  Downloading https://files.pythonhosted.org/packages/14/2c/cd551d81dbe15200be1cf41cd03869a46fe7226e7450af7a6545bfc474c9/idna-2.8-py2.py3-none-any.whl (58kB)\n",
            "\u001b[K     |████████████████████████████████| 61kB 8.1MB/s \n",
            "\u001b[?25hRequirement already satisfied: pyasn1<0.5.0,>=0.4.6 in /usr/local/lib/python3.7/dist-packages (from pyasn1-modules>=0.2.1->google-auth~=1.4.0->google.colab) (0.4.8)\n",
            "Requirement already satisfied: pyzmq>=13 in /usr/local/lib/python3.7/dist-packages (from jupyter-client->ipykernel~=4.6.0->google.colab) (22.1.0)\n",
            "Requirement already satisfied: wcwidth in /usr/local/lib/python3.7/dist-packages (from prompt-toolkit<2.0.0,>=1.0.4->ipython~=5.5.0->google.colab) (0.2.5)\n",
            "Requirement already satisfied: ptyprocess>=0.5 in /usr/local/lib/python3.7/dist-packages (from pexpect; sys_platform != \"win32\"->ipython~=5.5.0->google.colab) (0.7.0)\n",
            "Requirement already satisfied: jsonschema!=2.5.0,>=2.4 in /usr/local/lib/python3.7/dist-packages (from nbformat->notebook~=5.2.0->google.colab) (2.6.0)\n",
            "Requirement already satisfied: bleach in /usr/local/lib/python3.7/dist-packages (from nbconvert->notebook~=5.2.0->google.colab) (3.3.0)\n",
            "Requirement already satisfied: pandocfilters>=1.4.1 in /usr/local/lib/python3.7/dist-packages (from nbconvert->notebook~=5.2.0->google.colab) (1.4.3)\n",
            "Requirement already satisfied: mistune<2,>=0.8.1 in /usr/local/lib/python3.7/dist-packages (from nbconvert->notebook~=5.2.0->google.colab) (0.8.4)\n",
            "Requirement already satisfied: defusedxml in /usr/local/lib/python3.7/dist-packages (from nbconvert->notebook~=5.2.0->google.colab) (0.7.1)\n",
            "Requirement already satisfied: testpath in /usr/local/lib/python3.7/dist-packages (from nbconvert->notebook~=5.2.0->google.colab) (0.5.0)\n",
            "Requirement already satisfied: entrypoints>=0.2.2 in /usr/local/lib/python3.7/dist-packages (from nbconvert->notebook~=5.2.0->google.colab) (0.3)\n",
            "Requirement already satisfied: MarkupSafe>=0.23 in /usr/local/lib/python3.7/dist-packages (from jinja2->notebook~=5.2.0->google.colab) (2.0.1)\n",
            "Requirement already satisfied: webencodings in /usr/local/lib/python3.7/dist-packages (from bleach->nbconvert->notebook~=5.2.0->google.colab) (0.5.1)\n",
            "Requirement already satisfied: packaging in /usr/local/lib/python3.7/dist-packages (from bleach->nbconvert->notebook~=5.2.0->google.colab) (20.9)\n",
            "Requirement already satisfied: pyparsing>=2.0.2 in /usr/local/lib/python3.7/dist-packages (from packaging->bleach->nbconvert->notebook~=5.2.0->google.colab) (2.4.7)\n",
            "Building wheels for collected packages: google.colab, portpicker, tornado\n",
            "  Building wheel for google.colab (setup.py) ... \u001b[?25l\u001b[?25hdone\n",
            "  Created wheel for google.colab: filename=google_colab-1.0.0-py2.py3-none-any.whl size=102290 sha256=eb0132a480e009239dd7f9ac51ceccd1de564c85adbad56d13b34a712ce90584\n",
            "  Stored in directory: /root/.cache/pip/wheels/38/0d/59/701e300a337b2a2e07b27fe74dbfff0bc56ac58f711566ee67\n",
            "  Building wheel for portpicker (setup.py) ... \u001b[?25l\u001b[?25hdone\n",
            "  Created wheel for portpicker: filename=portpicker-1.2.0-cp37-none-any.whl size=13383 sha256=7c966f86461b3e774b2023f0dc5cc52ca9aff1d69adf2f3eef1c120d87f791fa\n",
            "  Stored in directory: /root/.cache/pip/wheels/4a/45/47/1e126be9d4605e71f00d6e6fb151611f2f4cb9770b050c7d2d\n",
            "  Building wheel for tornado (setup.py) ... \u001b[?25l\u001b[?25hdone\n",
            "  Created wheel for tornado: filename=tornado-4.5.3-cp37-cp37m-linux_x86_64.whl size=434009 sha256=a61fa014fc969b47103619237266d7239ad7ed4911a9881b9c2016e92ee077c6\n",
            "  Stored in directory: /root/.cache/pip/wheels/72/bf/f4/b68fa69596986881b397b18ff2b9af5f8181233aadcc9f76fd\n",
            "Successfully built google.colab portpicker tornado\n",
            "\u001b[31mERROR: xarray 0.18.2 has requirement pandas>=1.0, but you'll have pandas 0.24.2 which is incompatible.\u001b[0m\n",
            "\u001b[31mERROR: tensorflow 2.5.0 has requirement six~=1.15.0, but you'll have six 1.12.0 which is incompatible.\u001b[0m\n",
            "\u001b[31mERROR: tensorboard 2.5.0 has requirement google-auth<2,>=1.6.3, but you'll have google-auth 1.4.2 which is incompatible.\u001b[0m\n",
            "\u001b[31mERROR: plotnine 0.6.0 has requirement pandas>=0.25.0, but you'll have pandas 0.24.2 which is incompatible.\u001b[0m\n",
            "\u001b[31mERROR: mizani 0.6.0 has requirement pandas>=0.25.0, but you'll have pandas 0.24.2 which is incompatible.\u001b[0m\n",
            "\u001b[31mERROR: google-api-python-client 1.12.8 has requirement google-auth>=1.16.0, but you'll have google-auth 1.4.2 which is incompatible.\u001b[0m\n",
            "\u001b[31mERROR: google-api-python-client 1.12.8 has requirement six<2dev,>=1.13.0, but you'll have six 1.12.0 which is incompatible.\u001b[0m\n",
            "\u001b[31mERROR: google-api-core 1.26.3 has requirement google-auth<2.0dev,>=1.21.1, but you'll have google-auth 1.4.2 which is incompatible.\u001b[0m\n",
            "\u001b[31mERROR: google-api-core 1.26.3 has requirement six>=1.13.0, but you'll have six 1.12.0 which is incompatible.\u001b[0m\n",
            "\u001b[31mERROR: fbprophet 0.7.1 has requirement pandas>=1.0.4, but you'll have pandas 0.24.2 which is incompatible.\u001b[0m\n",
            "\u001b[31mERROR: datascience 0.10.6 has requirement folium==0.2.1, but you'll have folium 0.8.3 which is incompatible.\u001b[0m\n",
            "\u001b[31mERROR: bokeh 2.3.2 has requirement tornado>=5.1, but you'll have tornado 4.5.3 which is incompatible.\u001b[0m\n",
            "\u001b[31mERROR: albumentations 0.1.12 has requirement imgaug<0.2.7,>=0.2.5, but you'll have imgaug 0.2.9 which is incompatible.\u001b[0m\n",
            "Installing collected packages: six, google-auth, tornado, ipykernel, notebook, pandas, portpicker, idna, requests, google.colab\n",
            "  Found existing installation: six 1.15.0\n",
            "    Uninstalling six-1.15.0:\n",
            "      Successfully uninstalled six-1.15.0\n",
            "  Found existing installation: google-auth 1.32.1\n",
            "    Uninstalling google-auth-1.32.1:\n",
            "      Successfully uninstalled google-auth-1.32.1\n",
            "  Found existing installation: tornado 5.1.1\n",
            "    Uninstalling tornado-5.1.1:\n",
            "      Successfully uninstalled tornado-5.1.1\n",
            "  Found existing installation: ipykernel 4.10.1\n",
            "    Uninstalling ipykernel-4.10.1:\n",
            "      Successfully uninstalled ipykernel-4.10.1\n",
            "  Found existing installation: notebook 5.3.1\n",
            "    Uninstalling notebook-5.3.1:\n",
            "      Successfully uninstalled notebook-5.3.1\n",
            "  Found existing installation: pandas 1.1.5\n",
            "    Uninstalling pandas-1.1.5:\n",
            "      Successfully uninstalled pandas-1.1.5\n",
            "  Found existing installation: portpicker 1.3.9\n",
            "    Uninstalling portpicker-1.3.9:\n",
            "      Successfully uninstalled portpicker-1.3.9\n",
            "  Found existing installation: idna 2.10\n",
            "    Uninstalling idna-2.10:\n",
            "      Successfully uninstalled idna-2.10\n",
            "  Found existing installation: requests 2.23.0\n",
            "    Uninstalling requests-2.23.0:\n",
            "      Successfully uninstalled requests-2.23.0\n",
            "Successfully installed google-auth-1.4.2 google.colab idna-2.8 ipykernel-4.6.1 notebook-5.2.2 pandas-0.24.2 portpicker-1.2.0 requests-2.21.0 six-1.12.0 tornado-4.5.3\n"
          ],
          "name": "stdout"
        },
        {
          "output_type": "display_data",
          "data": {
            "application/vnd.colab-display-data+json": {
              "pip_warning": {
                "packages": [
                  "google",
                  "ipykernel",
                  "pandas",
                  "portpicker",
                  "six",
                  "tornado"
                ]
              }
            }
          },
          "metadata": {
            "tags": []
          }
        }
      ]
    },
    {
      "cell_type": "code",
      "metadata": {
        "id": "KJGmITogpH_Q",
        "colab": {
          "base_uri": "https://localhost:8080/"
        },
        "outputId": "a31fdb8c-6c65-45e7-d24b-cf17ef15212f"
      },
      "source": [
        "from google.colab import drive\n",
        "drive.mount('/content/drive')"
      ],
      "execution_count": null,
      "outputs": [
        {
          "output_type": "stream",
          "text": [
            "Mounted at /content/drive\n"
          ],
          "name": "stdout"
        }
      ]
    },
    {
      "cell_type": "code",
      "metadata": {
        "id": "FP1CjETWBrk-"
      },
      "source": [
        "import numpy as np \n",
        "import tensorflow as tf\n",
        "import pandas as pd\n",
        "from tqdm import tqdm\n",
        "import os\n",
        "from cv2 import imread, createCLAHE \n",
        "import cv2\n",
        "from glob import glob\n",
        "%matplotlib inline\n",
        "import matplotlib.pyplot as plt\n",
        "\n",
        "\n",
        "\n",
        "# select saagaar123@gmail.com drive\n",
        "\n",
        "image_path = os.path.join('/content/drive/My Drive/mammogram_segmentation/INB/mass')\n",
        "mask_path = os.path.join('/content/drive/My Drive/mammogram_segmentation/INB/mask/')"
      ],
      "execution_count": null,
      "outputs": []
    },
    {
      "cell_type": "markdown",
      "metadata": {
        "id": "Ooi8DpT5BrlA"
      },
      "source": [
        "\n",
        "They can inspected the concerning dataset seperately [here](http://https://www.kaggle.com/kmader/pulmonary-chest-xray-abnormalities/home)."
      ]
    },
    {
      "cell_type": "code",
      "metadata": {
        "id": "UziEFJUSBrlC"
      },
      "source": [
        "# we have 704 masks but 800 images. Hence we are going to\n",
        "# make a 1-1 correspondance from mask to images, not the usual other way.\n",
        "images = os.listdir(image_path)\n",
        "mask = os.listdir(mask_path)\n",
        "mask = [fName.split(\".png\")[0] for fName in mask]\n",
        "image_file_name = [fName.split(\"_segmentation\")[0] for fName in mask]"
      ],
      "execution_count": null,
      "outputs": []
    },
    {
      "cell_type": "code",
      "metadata": {
        "id": "FO5YIbnVUq__",
        "colab": {
          "base_uri": "https://localhost:8080/"
        },
        "outputId": "01e30d1c-ee0b-4da0-f453-d60c08e4733a"
      },
      "source": [
        "print(images)"
      ],
      "execution_count": null,
      "outputs": [
        {
          "output_type": "stream",
          "text": [
            "['DDSM_CBIS_000214.png', 'DDSM_CBIS_000213.png', 'DDSM_CBIS_000212.png', 'DDSM_CBIS_000211.png', 'DDSM_CBIS_000210.png', 'DDSM_CBIS_000209.png', 'DDSM_CBIS_000208.png', 'DDSM_CBIS_000207.png', 'DDSM_CBIS_000206.png', 'DDSM_CBIS_000204.png', 'DDSM_CBIS_000202.png', 'DDSM_CBIS_000203.png', 'DDSM_CBIS_000205.png', 'DDSM_CBIS_000200.png', 'DDSM_CBIS_000199.png', 'DDSM_CBIS_000201.png', 'DDSM_CBIS_000197.png', 'DDSM_CBIS_000198.png', 'DDSM_CBIS_000195.png', 'DDSM_CBIS_000196.png', 'DDSM_CBIS_000194.png', 'DDSM_CBIS_000193.png', 'DDSM_CBIS_000191.png', 'DDSM_CBIS_000192.png', 'DDSM_CBIS_000189.png', 'DDSM_CBIS_000190.png', 'DDSM_CBIS_000186.png', 'DDSM_CBIS_000187.png', 'DDSM_CBIS_000188.png', 'DDSM_CBIS_000184.png', 'DDSM_CBIS_000185.png', 'DDSM_CBIS_000182.png', 'DDSM_CBIS_000183.png', 'DDSM_CBIS_000178.png', 'DDSM_CBIS_000179.png', 'DDSM_CBIS_000177.png', 'DDSM_CBIS_000180.png', 'DDSM_CBIS_000181.png', 'DDSM_CBIS_000175.png', 'DDSM_CBIS_000176.png', 'DDSM_CBIS_000174.png', 'DDSM_CBIS_000171.png', 'DDSM_CBIS_000172.png', 'DDSM_CBIS_000173.png', 'DDSM_CBIS_000169.png', 'DDSM_CBIS_000170.png', 'DDSM_CBIS_000168.png', 'DDSM_CBIS_000167.png', 'DDSM_CBIS_000166.png', 'DDSM_CBIS_000164.png', 'DDSM_CBIS_000165.png', 'DDSM_CBIS_000163.png', 'DDSM_CBIS_000162.png', 'DDSM_CBIS_000158.png', 'DDSM_CBIS_000161.png', 'DDSM_CBIS_000159.png', 'DDSM_CBIS_000160.png', 'DDSM_CBIS_000157.png', 'DDSM_CBIS_000156.png', 'DDSM_CBIS_000154.png', 'DDSM_CBIS_000155.png', 'DDSM_CBIS_000153.png', 'DDSM_CBIS_000152.png', 'DDSM_CBIS_000151.png', 'DDSM_CBIS_000149.png', 'DDSM_CBIS_000150.png', 'DDSM_CBIS_000147.png', 'DDSM_CBIS_000148.png', 'DDSM_CBIS_000145.png', 'DDSM_CBIS_000146.png', 'DDSM_CBIS_000142.png', 'DDSM_CBIS_000143.png', 'DDSM_CBIS_000144.png', 'DDSM_CBIS_000141.png', 'DDSM_CBIS_000139.png', 'DDSM_CBIS_000140.png', 'DDSM_CBIS_000138.png', 'DDSM_CBIS_000137.png', 'DDSM_CBIS_000136.png', 'DDSM_CBIS_000135.png', 'DDSM_CBIS_000134.png', 'DDSM_CBIS_000133.png', 'DDSM_CBIS_000132.png', 'DDSM_CBIS_000130.png', 'DDSM_CBIS_000131.png', 'DDSM_CBIS_000129.png', 'DDSM_CBIS_000127.png', 'DDSM_CBIS_000128.png', 'DDSM_CBIS_000125.png', 'DDSM_CBIS_000126.png', 'DDSM_CBIS_000124.png', 'DDSM_CBIS_000123.png', 'DDSM_CBIS_000122.png', 'DDSM_CBIS_000120.png', 'DDSM_CBIS_000121.png', 'DDSM_CBIS_000116.png', 'DDSM_CBIS_000115.png', 'DDSM_CBIS_000119.png', 'DDSM_CBIS_000117.png', 'DDSM_CBIS_000118.png', 'DDSM_CBIS_000114.png', 'DDSM_CBIS_000112.png', 'DDSM_CBIS_000113.png', 'DDSM_CBIS_000111.png', 'DDSM_CBIS_000110.png', 'DDSM_CBIS_000109.png', 'DDSM_CBIS_000107.png', 'DDSM_CBIS_000108.png', 'DDSM_CBIS_000105.png', 'DDSM_CBIS_000106.png', 'DDSM_CBIS_000102.png', 'DDSM_CBIS_000104.png', 'DDSM_CBIS_000103.png', 'DDSM_CBIS_000101.png', 'DDSM_CBIS_000100.png', 'DDSM_CBIS_000098.png', 'DDSM_CBIS_000099.png', 'DDSM_CBIS_000096.png', 'DDSM_CBIS_000097.png', 'DDSM_CBIS_000095.png', 'DDSM_CBIS_000092.png', 'DDSM_CBIS_000093.png', 'DDSM_CBIS_000094.png', 'DDSM_CBIS_000091.png', 'DDSM_CBIS_000090.png', 'DDSM_CBIS_000088.png', 'DDSM_CBIS_000089.png', 'DDSM_CBIS_000087.png', 'DDSM_CBIS_000086.png', 'DDSM_CBIS_000084.png', 'DDSM_CBIS_000083.png', 'DDSM_CBIS_000085.png', 'DDSM_CBIS_000082.png', 'DDSM_CBIS_000081.png', 'DDSM_CBIS_000080.png', 'DDSM_CBIS_000079.png', 'DDSM_CBIS_000078.png', 'DDSM_CBIS_000077.png', 'DDSM_CBIS_000076.png', 'DDSM_CBIS_000074.png', 'DDSM_CBIS_000075.png', 'DDSM_CBIS_000073.png', 'DDSM_CBIS_000071.png', 'DDSM_CBIS_000072.png', 'DDSM_CBIS_000070.png', 'DDSM_CBIS_000069.png', 'DDSM_CBIS_000068.png', 'DDSM_CBIS_000067.png', 'DDSM_CBIS_000066.png', 'DDSM_CBIS_000064.png', 'DDSM_CBIS_000065.png', 'DDSM_CBIS_000063.png', 'DDSM_CBIS_000061.png', 'DDSM_CBIS_000062.png', 'DDSM_CBIS_000060.png', 'DDSM_CBIS_000058.png', 'DDSM_CBIS_000059.png', 'DDSM_CBIS_000057.png', 'DDSM_CBIS_000055.png', 'DDSM_CBIS_000056.png', 'DDSM_CBIS_000054.png', 'DDSM_CBIS_000053.png', 'DDSM_CBIS_000052.png', 'DDSM_CBIS_000051.png', 'DDSM_CBIS_000050.png', 'DDSM_CBIS_000049.png', 'DDSM_CBIS_000048.png', 'DDSM_CBIS_000047.png', 'DDSM_CBIS_000046.png', 'DDSM_CBIS_000045.png', 'DDSM_CBIS_000044.png', 'DDSM_CBIS_000042.png', 'DDSM_CBIS_000043.png', 'DDSM_CBIS_000040.png', 'DDSM_CBIS_000041.png', 'DDSM_CBIS_000039.png', 'DDSM_CBIS_000038.png', 'DDSM_CBIS_000037.png', 'DDSM_CBIS_000036.png', 'DDSM_CBIS_000035.png', 'DDSM_CBIS_000032.png', 'DDSM_CBIS_000033.png', 'DDSM_CBIS_000034.png', 'DDSM_CBIS_000030.png', 'DDSM_CBIS_000031.png', 'DDSM_CBIS_000029.png', 'DDSM_CBIS_000027.png', 'DDSM_CBIS_000025.png', 'DDSM_CBIS_000026.png', 'DDSM_CBIS_000028.png', 'DDSM_CBIS_000023.png', 'DDSM_CBIS_000024.png', 'DDSM_CBIS_000020.png', 'DDSM_CBIS_000022.png', 'DDSM_CBIS_000021.png', 'DDSM_CBIS_000017.png', 'DDSM_CBIS_000018.png', 'DDSM_CBIS_000019.png', 'DDSM_CBIS_000015.png', 'DDSM_CBIS_000014.png', 'DDSM_CBIS_000016.png', 'DDSM_CBIS_000013.png', 'DDSM_CBIS_000012.png', 'DDSM_CBIS_000011.png', 'DDSM_CBIS_000010.png', 'DDSM_CBIS_000008.png', 'DDSM_CBIS_000009.png', 'DDSM_CBIS_000006.png', 'DDSM_CBIS_000007.png', 'DDSM_CBIS_000005.png', 'DDSM_CBIS_000004.png', 'DDSM_CBIS_000003.png', 'DDSM_CBIS_000001.png', 'DDSM_CBIS_000002.png']\n"
          ],
          "name": "stdout"
        }
      ]
    },
    {
      "cell_type": "code",
      "metadata": {
        "id": "grrKzuZ_Uw8C",
        "colab": {
          "base_uri": "https://localhost:8080/"
        },
        "outputId": "bde2a615-8829-4d6c-ceef-40f4521a0539"
      },
      "source": [
        "print(mask)"
      ],
      "execution_count": null,
      "outputs": [
        {
          "output_type": "stream",
          "text": [
            "['DDSM_CBIS_000213_segmentation', 'DDSM_CBIS_000214_segmentation', 'DDSM_CBIS_000163_segmentation', 'DDSM_CBIS_000162_segmentation', 'DDSM_CBIS_000176_segmentation', 'DDSM_CBIS_000164_segmentation', 'DDSM_CBIS_000175_segmentation', 'DDSM_CBIS_000127_segmentation', 'DDSM_CBIS_000170_segmentation', 'DDSM_CBIS_000160_segmentation', 'DDSM_CBIS_000209_segmentation', 'DDSM_CBIS_000169_segmentation', 'DDSM_CBIS_000158_segmentation', 'DDSM_CBIS_000167_segmentation', 'DDSM_CBIS_000187_segmentation', 'DDSM_CBIS_000181_segmentation', 'DDSM_CBIS_000199_segmentation', 'DDSM_CBIS_000183_segmentation', 'DDSM_CBIS_000143_segmentation', 'DDSM_CBIS_000123_segmentation', 'DDSM_CBIS_000165_segmentation', 'DDSM_CBIS_000195_segmentation', 'DDSM_CBIS_000173_segmentation', 'DDSM_CBIS_000154_segmentation', 'DDSM_CBIS_000196_segmentation', 'DDSM_CBIS_000177_segmentation', 'DDSM_CBIS_000207_segmentation', 'DDSM_CBIS_000146_segmentation', 'DDSM_CBIS_000210_segmentation', 'DDSM_CBIS_000200_segmentation', 'DDSM_CBIS_000149_segmentation', 'DDSM_CBIS_000188_segmentation', 'DDSM_CBIS_000133_segmentation', 'DDSM_CBIS_000136_segmentation', 'DDSM_CBIS_000150_segmentation', 'DDSM_CBIS_000142_segmentation', 'DDSM_CBIS_000130_segmentation', 'DDSM_CBIS_000145_segmentation', 'DDSM_CBIS_000202_segmentation', 'DDSM_CBIS_000204_segmentation', 'DDSM_CBIS_000172_segmentation', 'DDSM_CBIS_000147_segmentation', 'DDSM_CBIS_000134_segmentation', 'DDSM_CBIS_000137_segmentation', 'DDSM_CBIS_000141_segmentation', 'DDSM_CBIS_000185_segmentation', 'DDSM_CBIS_000139_segmentation', 'DDSM_CBIS_000124_segmentation', 'DDSM_CBIS_000135_segmentation', 'DDSM_CBIS_000211_segmentation', 'DDSM_CBIS_000192_segmentation', 'DDSM_CBIS_000180_segmentation', 'DDSM_CBIS_000120_segmentation', 'DDSM_CBIS_000184_segmentation', 'DDSM_CBIS_000122_segmentation', 'DDSM_CBIS_000182_segmentation', 'DDSM_CBIS_000138_segmentation', 'DDSM_CBIS_000159_segmentation', 'DDSM_CBIS_000198_segmentation', 'DDSM_CBIS_000190_segmentation', 'DDSM_CBIS_000140_segmentation', 'DDSM_CBIS_000203_segmentation', 'DDSM_CBIS_000178_segmentation', 'DDSM_CBIS_000171_segmentation', 'DDSM_CBIS_000156_segmentation', 'DDSM_CBIS_000189_segmentation', 'DDSM_CBIS_000155_segmentation', 'DDSM_CBIS_000157_segmentation', 'DDSM_CBIS_000179_segmentation', 'DDSM_CBIS_000125_segmentation', 'DDSM_CBIS_000131_segmentation', 'DDSM_CBIS_000197_segmentation', 'DDSM_CBIS_000194_segmentation', 'DDSM_CBIS_000212_segmentation', 'DDSM_CBIS_000126_segmentation', 'DDSM_CBIS_000128_segmentation', 'DDSM_CBIS_000186_segmentation', 'DDSM_CBIS_000132_segmentation', 'DDSM_CBIS_000191_segmentation', 'DDSM_CBIS_000119_segmentation', 'DDSM_CBIS_000153_segmentation', 'DDSM_CBIS_000168_segmentation', 'DDSM_CBIS_000129_segmentation', 'DDSM_CBIS_000174_segmentation', 'DDSM_CBIS_000118_segmentation', 'DDSM_CBIS_000151_segmentation', 'DDSM_CBIS_000121_segmentation', 'DDSM_CBIS_000166_segmentation', 'DDSM_CBIS_000144_segmentation', 'DDSM_CBIS_000148_segmentation', 'DDSM_CBIS_000205_segmentation', 'DDSM_CBIS_000152_segmentation', 'DDSM_CBIS_000193_segmentation', 'DDSM_CBIS_000206_segmentation', 'DDSM_CBIS_000201_segmentation', 'DDSM_CBIS_000161_segmentation', 'DDSM_CBIS_000208_segmentation', 'DDSM_CBIS_000097_segmentation', 'DDSM_CBIS_000046_segmentation', 'DDSM_CBIS_000088_segmentation', 'DDSM_CBIS_000092_segmentation', 'DDSM_CBIS_000104_segmentation', 'DDSM_CBIS_000110_segmentation', 'DDSM_CBIS_000029_segmentation', 'DDSM_CBIS_000093_segmentation', 'DDSM_CBIS_000083_segmentation', 'DDSM_CBIS_000114_segmentation', 'DDSM_CBIS_000102_segmentation', 'DDSM_CBIS_000091_segmentation', 'DDSM_CBIS_000032_segmentation', 'DDSM_CBIS_000057_segmentation', 'DDSM_CBIS_000105_segmentation', 'DDSM_CBIS_000037_segmentation', 'DDSM_CBIS_000048_segmentation', 'DDSM_CBIS_000061_segmentation', 'DDSM_CBIS_000073_segmentation', 'DDSM_CBIS_000076_segmentation', 'DDSM_CBIS_000063_segmentation', 'DDSM_CBIS_000071_segmentation', 'DDSM_CBIS_000113_segmentation', 'DDSM_CBIS_000045_segmentation', 'DDSM_CBIS_000086_segmentation', 'DDSM_CBIS_000069_segmentation', 'DDSM_CBIS_000103_segmentation', 'DDSM_CBIS_000054_segmentation', 'DDSM_CBIS_000099_segmentation', 'DDSM_CBIS_000077_segmentation', 'DDSM_CBIS_000116_segmentation', 'DDSM_CBIS_000041_segmentation', 'DDSM_CBIS_000074_segmentation', 'DDSM_CBIS_000087_segmentation', 'DDSM_CBIS_000111_segmentation', 'DDSM_CBIS_000043_segmentation', 'DDSM_CBIS_000060_segmentation', 'DDSM_CBIS_000112_segmentation', 'DDSM_CBIS_000038_segmentation', 'DDSM_CBIS_000036_segmentation', 'DDSM_CBIS_000056_segmentation', 'DDSM_CBIS_000058_segmentation', 'DDSM_CBIS_000040_segmentation', 'DDSM_CBIS_000055_segmentation', 'DDSM_CBIS_000096_segmentation', 'DDSM_CBIS_000079_segmentation', 'DDSM_CBIS_000062_segmentation', 'DDSM_CBIS_000078_segmentation', 'DDSM_CBIS_000095_segmentation', 'DDSM_CBIS_000100_segmentation', 'DDSM_CBIS_000065_segmentation', 'DDSM_CBIS_000053_segmentation', 'DDSM_CBIS_000090_segmentation', 'DDSM_CBIS_000094_segmentation', 'DDSM_CBIS_000064_segmentation', 'DDSM_CBIS_000082_segmentation', 'DDSM_CBIS_000047_segmentation', 'DDSM_CBIS_000072_segmentation', 'DDSM_CBIS_000089_segmentation', 'DDSM_CBIS_000084_segmentation', 'DDSM_CBIS_000068_segmentation', 'DDSM_CBIS_000106_segmentation', 'DDSM_CBIS_000035_segmentation', 'DDSM_CBIS_000059_segmentation', 'DDSM_CBIS_000117_segmentation', 'DDSM_CBIS_000080_segmentation', 'DDSM_CBIS_000108_segmentation', 'DDSM_CBIS_000070_segmentation', 'DDSM_CBIS_000101_segmentation', 'DDSM_CBIS_000028_segmentation', 'DDSM_CBIS_000115_segmentation', 'DDSM_CBIS_000044_segmentation', 'DDSM_CBIS_000051_segmentation', 'DDSM_CBIS_000030_segmentation', 'DDSM_CBIS_000067_segmentation', 'DDSM_CBIS_000098_segmentation', 'DDSM_CBIS_000031_segmentation', 'DDSM_CBIS_000085_segmentation', 'DDSM_CBIS_000075_segmentation', 'DDSM_CBIS_000049_segmentation', 'DDSM_CBIS_000050_segmentation', 'DDSM_CBIS_000052_segmentation', 'DDSM_CBIS_000042_segmentation', 'DDSM_CBIS_000034_segmentation', 'DDSM_CBIS_000066_segmentation', 'DDSM_CBIS_000107_segmentation', 'DDSM_CBIS_000033_segmentation', 'DDSM_CBIS_000109_segmentation', 'DDSM_CBIS_000039_segmentation', 'DDSM_CBIS_000081_segmentation', 'DDSM_CBIS_000016_segmentation', 'DDSM_CBIS_000025_segmentation', 'DDSM_CBIS_000024_segmentation', 'DDSM_CBIS_000007_segmentation', 'DDSM_CBIS_000019_segmentation', 'DDSM_CBIS_000021_segmentation', 'DDSM_CBIS_000001_segmentation', 'DDSM_CBIS_000012_segmentation', 'DDSM_CBIS_000006_segmentation', 'DDSM_CBIS_000004_segmentation', 'DDSM_CBIS_000002_segmentation', 'DDSM_CBIS_000026_segmentation', 'DDSM_CBIS_000013_segmentation', 'DDSM_CBIS_000017_segmentation', 'DDSM_CBIS_000022_segmentation', 'DDSM_CBIS_000023_segmentation', 'DDSM_CBIS_000010_segmentation', 'DDSM_CBIS_000018_segmentation', 'DDSM_CBIS_000003_segmentation', 'DDSM_CBIS_000014_segmentation', 'DDSM_CBIS_000011_segmentation', 'DDSM_CBIS_000020_segmentation', 'DDSM_CBIS_000027_segmentation', 'DDSM_CBIS_000008_segmentation', 'DDSM_CBIS_000005_segmentation', 'DDSM_CBIS_000015_segmentation', 'DDSM_CBIS_000009_segmentation']\n"
          ],
          "name": "stdout"
        }
      ]
    },
    {
      "cell_type": "code",
      "metadata": {
        "id": "tSbt9WG6BrlD",
        "colab": {
          "base_uri": "https://localhost:8080/"
        },
        "outputId": "99e2b05c-6570-41ef-f141-a2a0504e7e17"
      },
      "source": [
        "check = [i for i in mask if \"segmentation\" in i]\n",
        "print(\"Total mask that has modified name:\",len(check))"
      ],
      "execution_count": null,
      "outputs": [
        {
          "output_type": "stream",
          "text": [
            "Total mask that has modified name: 214\n"
          ],
          "name": "stdout"
        }
      ]
    },
    {
      "cell_type": "markdown",
      "metadata": {
        "id": "AReQEffhBrlF"
      },
      "source": [
        "Earlier I was going to train on the Shenzhen dataset while perform prediction on the Montgomery dataset. However, the nature of the data was diffrent in both the set. The images from Shenzhen dataset had smaller lung-to-image ratio as compared to the Montgomery dataset.\n",
        "\n",
        "Thus, I am loading the two dataset seperately which I combined once I got to know about the disparity."
      ]
    },
    {
      "cell_type": "code",
      "metadata": {
        "id": "Y5L3tFcHBrlH"
      },
      "source": [
        "testing_files = set(os.listdir(image_path)) & set(os.listdir(mask_path))\n",
        "training_files = check\n",
        "\n",
        "def getData(X_shape, flag = \"test\"):\n",
        "    im_array = []\n",
        "    mask_array = []\n",
        "    \n",
        "    if flag == \"test\":\n",
        "        for i in tqdm(testing_files): \n",
        "            im = cv2.resize(cv2.imread(os.path.join(image_path,i)),(X_shape,X_shape))[:,:,0]\n",
        "            mask = cv2.resize(cv2.imread(os.path.join(mask_path,i)),(X_shape,X_shape))[:,:,0]\n",
        "            \n",
        "            im_array.append(im)\n",
        "            mask_array.append(mask)\n",
        "        \n",
        "        return im_array,mask_array\n",
        "    \n",
        "    if flag == \"train\":\n",
        "        for i in tqdm(training_files): \n",
        "            im = cv2.resize(cv2.imread(os.path.join(image_path,i.split(\"_segmentation\")[0]+\".png\")),(X_shape,X_shape))[:,:,0]\n",
        "            mask = cv2.resize(cv2.imread(os.path.join(mask_path,i+\".png\")),(X_shape,X_shape))[:,:,0]\n",
        "\n",
        "            im_array.append(im)\n",
        "            mask_array.append(mask)\n",
        "\n",
        "        return im_array,mask_array"
      ],
      "execution_count": null,
      "outputs": []
    },
    {
      "cell_type": "code",
      "metadata": {
        "id": "QsktIeLVBrlH"
      },
      "source": [
        "#perform sanity check\n",
        "\n",
        "def plotMask(X,y):\n",
        "    sample = []\n",
        "    \n",
        "    for i in range(6):\n",
        "        left = X[i]\n",
        "        right = y[i]\n",
        "        combined = np.hstack((left,right))\n",
        "        sample.append(combined)\n",
        "        \n",
        "        \n",
        "    for i in range(0,6,3):\n",
        "\n",
        "        plt.figure(figsize=(25,10))\n",
        "        \n",
        "        plt.subplot(2,3,1+i)\n",
        "        plt.imshow(sample[i])\n",
        "        \n",
        "        plt.subplot(2,3,2+i)\n",
        "        plt.imshow(sample[i+1])\n",
        "        \n",
        "        \n",
        "        plt.subplot(2,3,3+i)\n",
        "        plt.imshow(sample[i+2])\n",
        "        \n",
        "        plt.show()"
      ],
      "execution_count": null,
      "outputs": []
    },
    {
      "cell_type": "code",
      "metadata": {
        "id": "5_-HTuNOBrlI",
        "colab": {
          "base_uri": "https://localhost:8080/"
        },
        "outputId": "4f0b0d11-7c52-4f67-bb4f-96eac2b2845b"
      },
      "source": [
        "# Load training and testing data\n",
        "dim = 256*2\n",
        "X_train,y_train = getData(dim,flag=\"train\")\n",
        "#X_test, y_test = getData(dim,flag=\"test\")"
      ],
      "execution_count": null,
      "outputs": [
        {
          "output_type": "stream",
          "text": [
            "100%|██████████| 214/214 [05:19<00:00,  1.49s/it]\n"
          ],
          "name": "stderr"
        }
      ]
    },
    {
      "cell_type": "markdown",
      "metadata": {
        "id": "RR0CUuayBrlK"
      },
      "source": [
        "# Perform Sanity Check\n",
        "\n",
        "It is prudent to perform sanity check of the data correspondance. It become a routine check-up after a while but it is very crucial to check if we had made a mistake in loading the data."
      ]
    },
    {
      "cell_type": "code",
      "metadata": {
        "id": "Mz5lYLUTBrlL",
        "colab": {
          "base_uri": "https://localhost:8080/",
          "height": 514
        },
        "outputId": "8f26f101-6317-433e-9628-70f08c52a6ed"
      },
      "source": [
        "print(\"training set\")\n",
        "plotMask(X_train,y_train)\n",
        "#print(\"testing set\")\n",
        "#plotMask(X_test,y_test)"
      ],
      "execution_count": null,
      "outputs": [
        {
          "output_type": "stream",
          "text": [
            "training set\n"
          ],
          "name": "stdout"
        },
        {
          "output_type": "display_data",
          "data": {
            "image/png": "[encoded data removed]",
            "text/plain": [
              "<Figure size 1800x720 with 3 Axes>"
            ]
          },
          "metadata": {
            "tags": [],
            "needs_background": "light"
          }
        },
        {
          "output_type": "display_data",
          "data": {
            "image/png": "[encoded data removed]",
            "text/plain": [
              "<Figure size 1800x720 with 3 Axes>"
            ]
          },
          "metadata": {
            "tags": [],
            "needs_background": "light"
          }
        }
      ]
    },
    {
      "cell_type": "markdown",
      "metadata": {
        "id": "KpG6IfMWBrlO"
      },
      "source": [
        "Both the sets looks correct. Let's combine them and further use them as a unified dataset."
      ]
    },
    {
      "cell_type": "code",
      "metadata": {
        "id": "bzEtfYS0BrlO"
      },
      "source": [
        "X_train = np.array(X_train).reshape(len(X_train),dim,dim,1)\n",
        "y_train = np.array(y_train).reshape(len(y_train),dim,dim,1)\n",
        "#X_test = np.array(X_test).reshape(len(X_test),dim,dim,1)\n",
        "#y_test = np.array(y_test).reshape(len(y_test),dim,dim,1)\n",
        "assert X_train.shape == y_train.shape\n",
        "#assert X_test.shape == y_test.shape\n",
        "#images = np.concatenate((X_train,X_test),axis=0)\n",
        "#mask  = np.concatenate((y_train,y_test),axis=0)\n",
        "images = X_train\n",
        "mask = y_train"
      ],
      "execution_count": null,
      "outputs": []
    },
    {
      "cell_type": "markdown",
      "metadata": {
        "id": "8VrR3PXOBrlO"
      },
      "source": [
        "## Define  the network and callbacks\n",
        "\n",
        "I am going to use my favourite segmentation network - U-Nets. You can read about them [here](https://arxiv.org/abs/1505.04597)."
      ]
    },
    {
      "cell_type": "code",
      "metadata": {
        "id": "KVeOP3fGBrlQ"
      },
      "source": [
        "from keras.models import *\n",
        "from keras.layers import *\n",
        "from keras.optimizers import *\n",
        "from keras import backend as keras\n",
        "from keras.preprocessing.image import ImageDataGenerator\n",
        "from keras.callbacks import ModelCheckpoint, LearningRateScheduler\n",
        "\n",
        "\n",
        "def dice_coef(y_true, y_pred):\n",
        "    y_true_f = keras.flatten(y_true)\n",
        "    y_pred_f = keras.flatten(y_pred)\n",
        "    intersection = keras.sum(y_true_f * y_pred_f)\n",
        "    return (2. * intersection + 1) / (keras.sum(y_true_f) + keras.sum(y_pred_f) + 1)\n",
        "\n",
        "def dice_coef_loss(y_true, y_pred):\n",
        "    return -dice_coef(y_true, y_pred)\n",
        "\n",
        "    \n",
        "def BCDU_net_D3(input_size = (256,256,1)):\n",
        "    N = input_size[0]\n",
        "    inputs = Input(input_size) \n",
        "    conv1 = Conv2D(64, 3, activation = 'relu', padding = 'same', kernel_initializer = 'he_normal')(inputs)\n",
        "    conv1 = Conv2D(64, 3, activation = 'relu', padding = 'same', kernel_initializer = 'he_normal')(conv1)\n",
        "  \n",
        "    pool1 = MaxPooling2D(pool_size=(2, 2))(conv1)\n",
        "    conv2 = Conv2D(128, 3, activation = 'relu', padding = 'same', kernel_initializer = 'he_normal')(pool1)\n",
        "    conv2 = Conv2D(128, 3, activation = 'relu', padding = 'same', kernel_initializer = 'he_normal')(conv2)\n",
        "    pool2 = MaxPooling2D(pool_size=(2, 2))(conv2)\n",
        "    conv3 = Conv2D(256, 3, activation = 'relu', padding = 'same', kernel_initializer = 'he_normal')(pool2)\n",
        "    conv3 = Conv2D(256, 3, activation = 'relu', padding = 'same', kernel_initializer = 'he_normal')(conv3)\n",
        "    drop3 = Dropout(0.5)(conv3)\n",
        "    pool3 = MaxPooling2D(pool_size=(2, 2))(conv3)\n",
        "    # D1\n",
        "    conv4 = Conv2D(512, 3, activation = 'relu', padding = 'same', kernel_initializer = 'he_normal')(pool3)     \n",
        "    conv4_1 = Conv2D(512, 3, activation = 'relu', padding = 'same', kernel_initializer = 'he_normal')(conv4)\n",
        "    drop4_1 = Dropout(0.5)(conv4_1)\n",
        "    # D2\n",
        "    conv4_2 = Conv2D(512, 3, activation = 'relu', padding = 'same', kernel_initializer = 'he_normal')(drop4_1)     \n",
        "    conv4_2 = Conv2D(512, 3, activation = 'relu', padding = 'same', kernel_initializer = 'he_normal')(conv4_2)\n",
        "    conv4_2 = Dropout(0.5)(conv4_2)\n",
        "    # D3\n",
        "    merge_dense = concatenate([conv4_2,drop4_1], axis = 3)\n",
        "    conv4_3 = Conv2D(512, 3, activation = 'relu', padding = 'same', kernel_initializer = 'he_normal')(merge_dense)     \n",
        "    conv4_3 = Conv2D(512, 3, activation = 'relu', padding = 'same', kernel_initializer = 'he_normal')(conv4_3)\n",
        "    drop4_3 = Dropout(0.5)(conv4_3)\n",
        "\n",
        "    up6 = Conv2DTranspose(256, kernel_size=2, strides=2, padding='same',kernel_initializer = 'he_normal')(drop4_3)\n",
        "    up6 = BatchNormalization(axis=3)(up6)\n",
        "    up6 = Activation('relu')(up6)\n",
        "\n",
        "    x1 = Reshape(target_shape=(1, np.int32(N/4), np.int32(N/4), 256))(drop3)\n",
        "    x2 = Reshape(target_shape=(1, np.int32(N/4), np.int32(N/4), 256))(up6)\n",
        "    merge6  = concatenate([x1,x2], axis = 1) \n",
        "    merge6 = ConvLSTM2D(filters = 128, kernel_size=(3, 3), padding='same', return_sequences = False, go_backwards = True,kernel_initializer = 'he_normal' )(merge6)\n",
        "            \n",
        "    conv6 = Conv2D(256, 3, activation = 'relu', padding = 'same', kernel_initializer = 'he_normal')(merge6)\n",
        "    conv6 = Conv2D(256, 3, activation = 'relu', padding = 'same', kernel_initializer = 'he_normal')(conv6)\n",
        "\n",
        "    up7 = Conv2DTranspose(128, kernel_size=2, strides=2, padding='same',kernel_initializer = 'he_normal')(conv6)\n",
        "    up7 = BatchNormalization(axis=3)(up7)\n",
        "    up7 = Activation('relu')(up7)\n",
        "\n",
        "    x1 = Reshape(target_shape=(1, np.int32(N/2), np.int32(N/2), 128))(conv2)\n",
        "    x2 = Reshape(target_shape=(1, np.int32(N/2), np.int32(N/2), 128))(up7)\n",
        "    merge7  = concatenate([x1,x2], axis = 1) \n",
        "    merge7 = ConvLSTM2D(filters = 64, kernel_size=(3, 3), padding='same', return_sequences = False, go_backwards = True,kernel_initializer = 'he_normal' )(merge7)\n",
        "        \n",
        "    conv7 = Conv2D(128, 3, activation = 'relu', padding = 'same', kernel_initializer = 'he_normal')(merge7)\n",
        "    conv7 = Conv2D(128, 3, activation = 'relu', padding = 'same', kernel_initializer = 'he_normal')(conv7)\n",
        "\n",
        "    up8 = Conv2DTranspose(64, kernel_size=2, strides=2, padding='same',kernel_initializer = 'he_normal')(conv7)\n",
        "    up8 = BatchNormalization(axis=3)(up8)\n",
        "    up8 = Activation('relu')(up8)    \n",
        "\n",
        "    x1 = Reshape(target_shape=(1, N, N, 64))(conv1)\n",
        "    x2 = Reshape(target_shape=(1, N, N, 64))(up8)\n",
        "    merge8  = concatenate([x1,x2], axis = 1) \n",
        "    merge8 = ConvLSTM2D(filters = 32, kernel_size=(3, 3), padding='same', return_sequences = False, go_backwards = True,kernel_initializer = 'he_normal' )(merge8)    \n",
        "    \n",
        "    conv8 = Conv2D(64, 3, activation = 'relu', padding = 'same', kernel_initializer = 'he_normal')(merge8)\n",
        "    conv8 = Conv2D(64, 3, activation = 'relu', padding = 'same', kernel_initializer = 'he_normal')(conv8)\n",
        "    conv8 = Conv2D(2, 3, activation = 'relu', padding = 'same', kernel_initializer = 'he_normal')(conv8)\n",
        "    conv9 = Conv2D(1, 1, activation = 'sigmoid')(conv8)\n",
        "\n",
        "    model = Model(inputs = inputs, outputs = conv9)\n",
        "\n",
        "    model.compile(optimizer = Adam(lr = 1e-4), loss = 'binary_crossentropy', metrics = ['accuracy'])\n",
        "    return model\n",
        "\n"
      ],
      "execution_count": null,
      "outputs": []
    },
    {
      "cell_type": "markdown",
      "metadata": {
        "id": "zK-_F-OcBrlQ"
      },
      "source": [
        "#### Compile and train the Unet Model"
      ]
    },
    {
      "cell_type": "code",
      "metadata": {
        "id": "g3o8XItABrlQ",
        "colab": {
          "base_uri": "https://localhost:8080/"
        },
        "outputId": "f440e0e7-72e4-42ff-d796-3201a3862075"
      },
      "source": [
        "model = BCDU_net_D3(input_size=(dim,dim,1))\n",
        "model.compile(optimizer=Adam(lr=1e-5), loss=dice_coef_loss,\n",
        "                  metrics=[dice_coef, 'binary_accuracy'])\n",
        "model.summary()"
      ],
      "execution_count": null,
      "outputs": [
        {
          "output_type": "stream",
          "text": [
            "Model: \"model\"\n",
            "__________________________________________________________________________________________________\n",
            "Layer (type)                    Output Shape         Param #     Connected to                     \n",
            "==================================================================================================\n",
            "input_2 (InputLayer)            [(None, 512, 512, 1) 0                                            \n",
            "__________________________________________________________________________________________________\n",
            "conv2d_20 (Conv2D)              (None, 512, 512, 64) 640         input_2[0][0]                    \n",
            "__________________________________________________________________________________________________\n",
            "conv2d_21 (Conv2D)              (None, 512, 512, 64) 36928       conv2d_20[0][0]                  \n",
            "__________________________________________________________________________________________________\n",
            "max_pooling2d_3 (MaxPooling2D)  (None, 256, 256, 64) 0           conv2d_21[0][0]                  \n",
            "__________________________________________________________________________________________________\n",
            "conv2d_22 (Conv2D)              (None, 256, 256, 128 73856       max_pooling2d_3[0][0]            \n",
            "__________________________________________________________________________________________________\n",
            "conv2d_23 (Conv2D)              (None, 256, 256, 128 147584      conv2d_22[0][0]                  \n",
            "__________________________________________________________________________________________________\n",
            "max_pooling2d_4 (MaxPooling2D)  (None, 128, 128, 128 0           conv2d_23[0][0]                  \n",
            "__________________________________________________________________________________________________\n",
            "conv2d_24 (Conv2D)              (None, 128, 128, 256 295168      max_pooling2d_4[0][0]            \n",
            "__________________________________________________________________________________________________\n",
            "conv2d_25 (Conv2D)              (None, 128, 128, 256 590080      conv2d_24[0][0]                  \n",
            "__________________________________________________________________________________________________\n",
            "max_pooling2d_5 (MaxPooling2D)  (None, 64, 64, 256)  0           conv2d_25[0][0]                  \n",
            "__________________________________________________________________________________________________\n",
            "conv2d_26 (Conv2D)              (None, 64, 64, 512)  1180160     max_pooling2d_5[0][0]            \n",
            "__________________________________________________________________________________________________\n",
            "conv2d_27 (Conv2D)              (None, 64, 64, 512)  2359808     conv2d_26[0][0]                  \n",
            "__________________________________________________________________________________________________\n",
            "dropout_5 (Dropout)             (None, 64, 64, 512)  0           conv2d_27[0][0]                  \n",
            "__________________________________________________________________________________________________\n",
            "conv2d_28 (Conv2D)              (None, 64, 64, 512)  2359808     dropout_5[0][0]                  \n",
            "__________________________________________________________________________________________________\n",
            "conv2d_29 (Conv2D)              (None, 64, 64, 512)  2359808     conv2d_28[0][0]                  \n",
            "__________________________________________________________________________________________________\n",
            "dropout_6 (Dropout)             (None, 64, 64, 512)  0           conv2d_29[0][0]                  \n",
            "__________________________________________________________________________________________________\n",
            "concatenate_4 (Concatenate)     (None, 64, 64, 1024) 0           dropout_6[0][0]                  \n",
            "                                                                 dropout_5[0][0]                  \n",
            "__________________________________________________________________________________________________\n",
            "conv2d_30 (Conv2D)              (None, 64, 64, 512)  4719104     concatenate_4[0][0]              \n",
            "__________________________________________________________________________________________________\n",
            "conv2d_31 (Conv2D)              (None, 64, 64, 512)  2359808     conv2d_30[0][0]                  \n",
            "__________________________________________________________________________________________________\n",
            "dropout_7 (Dropout)             (None, 64, 64, 512)  0           conv2d_31[0][0]                  \n",
            "__________________________________________________________________________________________________\n",
            "conv2d_transpose_3 (Conv2DTrans (None, 128, 128, 256 524544      dropout_7[0][0]                  \n",
            "__________________________________________________________________________________________________\n",
            "batch_normalization_3 (BatchNor (None, 128, 128, 256 1024        conv2d_transpose_3[0][0]         \n",
            "__________________________________________________________________________________________________\n",
            "dropout_4 (Dropout)             (None, 128, 128, 256 0           conv2d_25[0][0]                  \n",
            "__________________________________________________________________________________________________\n",
            "activation_3 (Activation)       (None, 128, 128, 256 0           batch_normalization_3[0][0]      \n",
            "__________________________________________________________________________________________________\n",
            "reshape_6 (Reshape)             (None, 1, 128, 128,  0           dropout_4[0][0]                  \n",
            "__________________________________________________________________________________________________\n",
            "reshape_7 (Reshape)             (None, 1, 128, 128,  0           activation_3[0][0]               \n",
            "__________________________________________________________________________________________________\n",
            "concatenate_5 (Concatenate)     (None, 2, 128, 128,  0           reshape_6[0][0]                  \n",
            "                                                                 reshape_7[0][0]                  \n",
            "__________________________________________________________________________________________________\n",
            "conv_lst_m2d_3 (ConvLSTM2D)     (None, 128, 128, 128 1769984     concatenate_5[0][0]              \n",
            "__________________________________________________________________________________________________\n",
            "conv2d_32 (Conv2D)              (None, 128, 128, 256 295168      conv_lst_m2d_3[0][0]             \n",
            "__________________________________________________________________________________________________\n",
            "conv2d_33 (Conv2D)              (None, 128, 128, 256 590080      conv2d_32[0][0]                  \n",
            "__________________________________________________________________________________________________\n",
            "conv2d_transpose_4 (Conv2DTrans (None, 256, 256, 128 131200      conv2d_33[0][0]                  \n",
            "__________________________________________________________________________________________________\n",
            "batch_normalization_4 (BatchNor (None, 256, 256, 128 512         conv2d_transpose_4[0][0]         \n",
            "__________________________________________________________________________________________________\n",
            "activation_4 (Activation)       (None, 256, 256, 128 0           batch_normalization_4[0][0]      \n",
            "__________________________________________________________________________________________________\n",
            "reshape_8 (Reshape)             (None, 1, 256, 256,  0           conv2d_23[0][0]                  \n",
            "__________________________________________________________________________________________________\n",
            "reshape_9 (Reshape)             (None, 1, 256, 256,  0           activation_4[0][0]               \n",
            "__________________________________________________________________________________________________\n",
            "concatenate_6 (Concatenate)     (None, 2, 256, 256,  0           reshape_8[0][0]                  \n",
            "                                                                 reshape_9[0][0]                  \n",
            "__________________________________________________________________________________________________\n",
            "conv_lst_m2d_4 (ConvLSTM2D)     (None, 256, 256, 64) 442624      concatenate_6[0][0]              \n",
            "__________________________________________________________________________________________________\n",
            "conv2d_34 (Conv2D)              (None, 256, 256, 128 73856       conv_lst_m2d_4[0][0]             \n",
            "__________________________________________________________________________________________________\n",
            "conv2d_35 (Conv2D)              (None, 256, 256, 128 147584      conv2d_34[0][0]                  \n",
            "__________________________________________________________________________________________________\n",
            "conv2d_transpose_5 (Conv2DTrans (None, 512, 512, 64) 32832       conv2d_35[0][0]                  \n",
            "__________________________________________________________________________________________________\n",
            "batch_normalization_5 (BatchNor (None, 512, 512, 64) 256         conv2d_transpose_5[0][0]         \n",
            "__________________________________________________________________________________________________\n",
            "activation_5 (Activation)       (None, 512, 512, 64) 0           batch_normalization_5[0][0]      \n",
            "__________________________________________________________________________________________________\n",
            "reshape_10 (Reshape)            (None, 1, 512, 512,  0           conv2d_21[0][0]                  \n",
            "__________________________________________________________________________________________________\n",
            "reshape_11 (Reshape)            (None, 1, 512, 512,  0           activation_5[0][0]               \n",
            "__________________________________________________________________________________________________\n",
            "concatenate_7 (Concatenate)     (None, 2, 512, 512,  0           reshape_10[0][0]                 \n",
            "                                                                 reshape_11[0][0]                 \n",
            "__________________________________________________________________________________________________\n",
            "conv_lst_m2d_5 (ConvLSTM2D)     (None, 512, 512, 32) 110720      concatenate_7[0][0]              \n",
            "__________________________________________________________________________________________________\n",
            "conv2d_36 (Conv2D)              (None, 512, 512, 64) 18496       conv_lst_m2d_5[0][0]             \n",
            "__________________________________________________________________________________________________\n",
            "conv2d_37 (Conv2D)              (None, 512, 512, 64) 36928       conv2d_36[0][0]                  \n",
            "__________________________________________________________________________________________________\n",
            "conv2d_38 (Conv2D)              (None, 512, 512, 2)  1154        conv2d_37[0][0]                  \n",
            "__________________________________________________________________________________________________\n",
            "conv2d_39 (Conv2D)              (None, 512, 512, 1)  3           conv2d_38[0][0]                  \n",
            "==================================================================================================\n",
            "Total params: 20,659,717\n",
            "Trainable params: 20,658,821\n",
            "Non-trainable params: 896\n",
            "__________________________________________________________________________________________________\n"
          ],
          "name": "stdout"
        },
        {
          "output_type": "stream",
          "text": [
            "/usr/local/lib/python3.7/dist-packages/tensorflow/python/keras/optimizer_v2/optimizer_v2.py:375: UserWarning: The `lr` argument is deprecated, use `learning_rate` instead.\n",
            "  \"The `lr` argument is deprecated, use `learning_rate` instead.\")\n"
          ],
          "name": "stderr"
        }
      ]
    },
    {
      "cell_type": "markdown",
      "metadata": {
        "id": "BHh4RyYrBrlR"
      },
      "source": [
        "## Callbacks, Early Stopping and Reduced LR\n"
      ]
    },
    {
      "cell_type": "code",
      "metadata": {
        "id": "g7fO_8blBrlR"
      },
      "source": [
        "from keras.callbacks import ModelCheckpoint, LearningRateScheduler, EarlyStopping, ReduceLROnPlateau\n",
        "weight_path=\"{}_weights_best.h5\".format('cxr_reg')\n",
        "\n",
        "checkpoint = ModelCheckpoint(weight_path, monitor='val_loss', verbose=1, \n",
        "                             save_best_only=True, mode='min', save_weights_only = True)\n",
        "\n",
        "reduceLROnPlat = ReduceLROnPlateau(monitor='val_loss', factor=0.5, \n",
        "                                   patience=3, \n",
        "                                   verbose=1, mode='min', epsilon=0.0001, cooldown=2, min_lr=1e-6)\n",
        "early = EarlyStopping(monitor=\"val_loss\", \n",
        "                      mode=\"min\", \n",
        "                      patience=15) # probably needs to be more patient, but kaggle time is limited\n",
        "callbacks_list = [checkpoint, early, reduceLROnPlat]"
      ],
      "execution_count": null,
      "outputs": []
    },
    {
      "cell_type": "markdown",
      "metadata": {
        "id": "9oO-gp2NBrlT"
      },
      "source": [
        "#### Train the model\n",
        "\n",
        "I intially used a 60-40 train-test spit and got a loss of -0.97. However, the better way to do it is 80-10-10 train-test-validation spit. Below I am roughly doing the later."
      ]
    },
    {
      "cell_type": "code",
      "metadata": {
        "id": "Ts1W2RFmBrlT",
        "scrolled": false
      },
      "source": [
        "from IPython.display import clear_output\n",
        "from keras.optimizers import Adam \n",
        "from sklearn.model_selection import train_test_split\n",
        "\n",
        "model.compile(optimizer=Adam(lr=2e-4), #optimizer=tf.keras.optimizers.SGD(learning_rate=0.1) ; optimizer=Adam(lr=2e-4)\n",
        "              loss=['binary_crossentropy'], #loss=['binary_crossentropy'];loss=[dice_coef_loss]\n",
        "           metrics = [dice_coef, 'binary_accuracy'])\n",
        "\n",
        "train_vol, validation_vol, train_seg, validation_seg = train_test_split((images-127.0)/127.0, \n",
        "                                                            (mask>127).astype(np.float32), \n",
        "                                                            test_size = 0.1,random_state = 2018)\n",
        "\n",
        "train_vol, test_vol, train_seg, test_seg = train_test_split(train_vol,train_seg, \n",
        "                                                            test_size = 0.1, \n",
        "                                                            random_state = 2018)\n",
        "\n",
        "loss_history = model.fit(x = train_vol,\n",
        "                       y = train_seg,\n",
        "                         batch_size = 2,\n",
        "                  epochs = 30,\n",
        "                  validation_data =(test_vol,test_seg) ,\n",
        "                  callbacks=callbacks_list)\n",
        "\n",
        "#clear_output()\n",
        "                                                                        \n",
        "\n",
        "print(validation_vol.shape)"
      ],
      "execution_count": null,
      "outputs": []
    },
    {
      "cell_type": "markdown",
      "metadata": {
        "id": "ldUTBfS6BrlT"
      },
      "source": [
        "## Plot the metric and evaluate "
      ]
    },
    {
      "cell_type": "code",
      "metadata": {
        "id": "AkvMhxRFBrlV"
      },
      "source": [
        "fig, (ax1, ax2) = plt.subplots(1, 2, figsize = (10, 5))\n",
        "ax1.plot(loss_history.history['loss'], '-', label = 'Loss')\n",
        "ax1.plot(loss_history.history['val_loss'], '-', label = 'Validation Loss')\n",
        "ax1.legend()\n",
        "\n",
        "ax2.plot(100*np.array(loss_history.history['binary_accuracy']), '-', \n",
        "         label = 'Accuracy')\n",
        "ax2.plot(100*np.array(loss_history.history['val_binary_accuracy']), '-',\n",
        "         label = 'Validation Accuracy')\n",
        "ax2.legend()"
      ],
      "execution_count": null,
      "outputs": []
    },
    {
      "cell_type": "markdown",
      "metadata": {
        "id": "xikyf98pBrlV"
      },
      "source": [
        "## Test the model"
      ]
    },
    {
      "cell_type": "code",
      "metadata": {
        "id": "Vl6kmZtgBrlV"
      },
      "source": [
        "pred_candidates = np.random.randint(1,validation_vol.shape[0],10)\n",
        "preds = model.predict(validation_vol)\n",
        "\n",
        "plt.figure(figsize=(20,10))\n",
        "\n",
        "for i in range(0,9,3):\n",
        "    plt.subplot(3,3,i+1)\n",
        "    \n",
        "    plt.imshow(np.squeeze(validation_vol[pred_candidates[i]]))\n",
        "    plt.xlabel(\"Base Image\")\n",
        "    \n",
        "    \n",
        "    plt.subplot(3,3,i+2)\n",
        "    plt.imshow(np.squeeze(validation_seg[pred_candidates[i]]))\n",
        "    plt.xlabel(\"Mask\")\n",
        "    \n",
        "    plt.subplot(3,3,i+3)\n",
        "    plt.imshow(np.squeeze(preds[pred_candidates[i]]))\n",
        "    plt.xlabel(\"Pridiction\")"
      ],
      "execution_count": null,
      "outputs": []
    },
    {
      "cell_type": "code",
      "metadata": {
        "id": "vSfMp_5eVSgZ"
      },
      "source": [
        "pred_candidates = np.random.randint(1,validation_vol.shape[0],10)\n",
        "preds = model.predict(validation_vol)\n",
        "\n",
        "plt.figure(figsize=(20,10))\n",
        "\n",
        "for i in range(0,9,3):\n",
        "    plt.subplot(3,3,i+1)\n",
        "    \n",
        "    plt.imshow(np.squeeze(validation_vol[pred_candidates[i]]))\n",
        "    plt.xlabel(\"Base Image\")\n",
        "    \n",
        "    \n",
        "    plt.subplot(3,3,i+2)\n",
        "    plt.imshow(np.squeeze(validation_seg[pred_candidates[i]]))\n",
        "    plt.xlabel(\"Mask\")\n",
        "    \n",
        "    plt.subplot(3,3,i+3)\n",
        "    plt.imshow(np.squeeze(preds[pred_candidates[i]]))\n",
        "    plt.xlabel(\"Pridiction\")"
      ],
      "execution_count": null,
      "outputs": []
    },
    {
      "cell_type": "code",
      "metadata": {
        "id": "LloNeJ6tFirb"
      },
      "source": [
        "from sklearn.metrics import roc_curve\n",
        "from sklearn.metrics import roc_auc_score\n",
        "from sklearn.metrics import confusion_matrix\n",
        "from sklearn.metrics import precision_recall_curve\n",
        "from sklearn.metrics import jaccard_score\n",
        "from sklearn.metrics import f1_score\n",
        "\n",
        "\n",
        "y_scores = preds.reshape(preds.shape[0]*preds.shape[1]*preds.shape[2]*preds.shape[3], 1)\n",
        "print(y_scores.shape)\n",
        "\n",
        "y_true = validation_seg.reshape(validation_seg.shape[0]*validation_seg.shape[1]*validation_seg.shape[2]*validation_seg.shape[3], 1)\n",
        "\n",
        "y_scores = np.where(y_scores>0.5, 1, 0)\n",
        "y_true   = np.where(y_true>0.5, 1, 0)\n",
        "\n",
        "\n",
        "output_folder = '/content/drive/My Drive/mammogram_segmentation/INB'\n",
        "\n",
        "#Area under the ROC curve\n",
        "fpr, tpr, thresholds = roc_curve((y_true), y_scores)\n",
        "AUC_ROC = roc_auc_score(y_true, y_scores)\n",
        "print (\"\\nArea under the ROC curve: \" +str(AUC_ROC))\n",
        "roc_curve =plt.figure()\n",
        "plt.plot(fpr,tpr,'-',label='Area Under the Curve (AUC = %0.4f)' % AUC_ROC)\n",
        "plt.title('ROC curve')\n",
        "plt.xlabel(\"FPR (False Positive Rate)\")\n",
        "plt.ylabel(\"TPR (True Positive Rate)\")\n",
        "plt.legend(loc=\"lower right\")\n",
        "plt.savefig(output_folder+\"ROC.png\")"
      ],
      "execution_count": null,
      "outputs": []
    },
    {
      "cell_type": "code",
      "metadata": {
        "id": "pG5zQFTGHCZs"
      },
      "source": [
        "#Precision-recall curve\n",
        "precision, recall, thresholds = precision_recall_curve(y_true, y_scores)\n",
        "precision = np.fliplr([precision])[0] \n",
        "recall = np.fliplr([recall])[0]\n",
        "AUC_prec_rec = np.trapz(precision,recall)\n",
        "print (\"\\nArea under Precision-Recall curve: \" +str(AUC_prec_rec))\n",
        "prec_rec_curve = plt.figure()\n",
        "plt.plot(recall,precision,'-',label='Area Under the Curve (AUC = %0.4f)' % AUC_prec_rec)\n",
        "plt.title('Precision - Recall curve')\n",
        "plt.xlabel(\"Recall\")\n",
        "plt.ylabel(\"Precision\")\n",
        "plt.legend(loc=\"lower right\")\n",
        "plt.savefig(output_folder+\"Precision_recall.png\")"
      ],
      "execution_count": null,
      "outputs": []
    },
    {
      "cell_type": "code",
      "metadata": {
        "id": "Ee3cS1hGHLVi"
      },
      "source": [
        "#Confusion matrix\n",
        "threshold_confusion = 0.5\n",
        "print (\"\\nConfusion matrix:  Custom threshold (for positive) of \" +str(threshold_confusion))\n",
        "y_pred = np.empty((y_scores.shape[0]))\n",
        "for i in range(y_scores.shape[0]):\n",
        "    if y_scores[i]>=threshold_confusion:\n",
        "        y_pred[i]=1\n",
        "    else:\n",
        "        y_pred[i]=0\n",
        "confusion = confusion_matrix(y_true, y_pred)\n",
        "print (confusion)\n",
        "accuracy = 0\n",
        "if float(np.sum(confusion))!=0:\n",
        "    accuracy = float(confusion[0,0]+confusion[1,1])/float(np.sum(confusion))\n",
        "print (\"Global Accuracy: \" +str(accuracy))\n",
        "specificity = 0\n",
        "if float(confusion[0,0]+confusion[0,1])!=0:\n",
        "    specificity = float(confusion[0,0])/float(confusion[0,0]+confusion[0,1])\n",
        "print (\"Specificity: \" +str(specificity))\n",
        "sensitivity = 0\n",
        "if float(confusion[1,1]+confusion[1,0])!=0:\n",
        "    sensitivity = float(confusion[1,1])/float(confusion[1,1]+confusion[1,0])\n",
        "print (\"Sensitivity: \" +str(sensitivity))\n",
        "precision = 0\n",
        "if float(confusion[1,1]+confusion[0,1])!=0:\n",
        "    precision = float(confusion[1,1])/float(confusion[1,1]+confusion[0,1])\n",
        "print (\"Precision: \" +str(precision))\n",
        "\n",
        "#Jaccard similarity index\n",
        "jaccard_index = jaccard_score(y_true, y_pred)\n",
        "print (\"\\nJaccard similarity score: \" +str(jaccard_index))\n",
        "\n",
        "#F1 score\n",
        "F1_score = f1_score(y_true, y_pred, labels=None, average='binary', sample_weight=None)\n",
        "print (\"\\nF1 score (F-measure): \" +str(F1_score))"
      ],
      "execution_count": null,
      "outputs": []
    },
    {
      "cell_type": "code",
      "metadata": {
        "id": "vec6zs0oNOJn"
      },
      "source": [
        "#Save the results\n",
        "file_perf = open(output_folder+'performances.txt', 'w')\n",
        "file_perf.write(\"Area under the ROC curve: \"+str(AUC_ROC)\n",
        "                + \"\\nArea under Precision-Recall curve: \" +str(AUC_prec_rec)\n",
        "                + \"\\nJaccard similarity score: \" +str(jaccard_index)\n",
        "                + \"\\nF1 score (F-measure): \" +str(F1_score)\n",
        "                +\"\\n\\nConfusion matrix:\"\n",
        "                +str(confusion)\n",
        "                +\"\\nACCURACY: \" +str(accuracy)\n",
        "                +\"\\nSENSITIVITY: \" +str(sensitivity)\n",
        "                +\"\\nSPECIFICITY: \" +str(specificity)\n",
        "                +\"\\nPRECISION: \" +str(precision)\n",
        "                )\n",
        "file_perf.close()\n",
        "\n",
        "# Save 10 results with error rate lower than threshold\n",
        "threshold = 300\n",
        "predictions = np.where(preds>0.5, 1, 0)\n",
        "te_mask     = np.where(validation_seg>0.5, 1, 0)\n",
        "good_prediction = np.zeros([predictions.shape[0],1], np.uint8)\n",
        "id_m = 0\n",
        "for idx in range(predictions.shape[0]):\n",
        "    esti_sample = predictions[idx]\n",
        "    true_sample = te_mask[idx]\n",
        "    esti_sample = esti_sample.reshape(esti_sample.shape[0]*esti_sample.shape[1]*esti_sample.shape[2], 1)\n",
        "    true_sample = true_sample.reshape(true_sample.shape[0]*true_sample.shape[1]*true_sample.shape[2], 1)\n",
        "    er = 0\n",
        "    for idy in range(true_sample.shape[0]):\n",
        "        if esti_sample[idy] != true_sample[idy]:\n",
        "           er = er +1\n",
        "    if er <threshold:\n",
        "       good_prediction[id_m] = idx    \n",
        "       id_m += 1   \n",
        "\n",
        "\n",
        "fig,ax = plt.subplots(10,3,figsize=[15,15])\n",
        "titles = ['Source', 'Generated', 'Expected']\n",
        "for idx in range(10):\n",
        "    #plt.imshow(np.squeeze(validation_vol[pred_candidates[i]]))\n",
        "    ax[idx, 0].imshow(np.squeeze(validation_vol[good_prediction[idx,0]]))\n",
        "    ax[idx, 1].imshow(np.squeeze(te_mask[good_prediction[idx,0]]), cmap='gray')\n",
        "    ax[idx, 2].imshow(np.squeeze(predictions[good_prediction[idx,0]]), cmap='gray')\n",
        "\n",
        "plt.savefig(output_folder+'sample_results.png')"
      ],
      "execution_count": null,
      "outputs": []
    },
    {
      "cell_type": "code",
      "metadata": {
        "id": "3lGomiHTBrlW"
      },
      "source": [
        "plt.figure(figsize=(20,10))\n",
        "for i in range(6):\n",
        "    plt.subplot(3,2,i+1)\n",
        "    plt.imshow(np.squeeze(preds[i]))\n",
        "    plt.xlabel(\"Pridiction\")"
      ],
      "execution_count": null,
      "outputs": []
    },
    {
      "cell_type": "code",
      "metadata": {
        "id": "YDon8bX4BrlX"
      },
      "source": [
        "plt.figure(figsize=(30,20))\n",
        "for i in range(0,21,3):\n",
        "    plt.subplot(7,3,i+1)\n",
        "    \n",
        "    plt.imshow(np.squeeze(validation_vol[i]))\n",
        "    plt.xlabel(\"Base Image\")\n",
        "    \n",
        "    \n",
        "    plt.subplot(7,3,i+2)\n",
        "    plt.imshow(np.squeeze(validation_seg[i]))\n",
        "    plt.xlabel(\"Mask\")\n",
        "    \n",
        "    plt.subplot(7,3,i+3)\n",
        "    plt.imshow(np.squeeze(preds[i]))\n",
        "    plt.xlabel(\"Pridiction\")"
      ],
      "execution_count": null,
      "outputs": []
    },
    {
      "cell_type": "code",
      "metadata": {
        "id": "ptNcm800BrlY"
      },
      "source": [
        "np.save(\"preds\",preds)\n",
        "np.save(\"validation_vol\",validation_vol)\n",
        "np.save(\"validation_seg\",validation_seg)"
      ],
      "execution_count": null,
      "outputs": []
    },
    {
      "cell_type": "code",
      "metadata": {
        "id": "D_7hSTvUBrlY"
      },
      "source": [
        "sagar    = np.load('preds.npy')\n",
        "\n",
        "\n",
        "plt.figure(figsize=(20,10))\n",
        "for i in range(6):\n",
        "    plt.subplot(3,2,i+1)\n",
        "    plt.imshow(np.squeeze(sagar[i]))\n",
        "    plt.xlabel(\"Pridiction\")\n"
      ],
      "execution_count": null,
      "outputs": []
    },
    {
      "cell_type": "code",
      "metadata": {
        "id": "Y34pRL2jBrlZ"
      },
      "source": [
        "#from keras.models import load_model\n",
        "#from numpy import load\n",
        "\n",
        "#model = load_model('cxr_reg_weights.best.h5')"
      ],
      "execution_count": null,
      "outputs": []
    },
    {
      "cell_type": "markdown",
      "metadata": {
        "id": "Biw7FvahGvRx"
      },
      "source": [
        "Loading the testing dataset"
      ]
    },
    {
      "cell_type": "code",
      "metadata": {
        "id": "KoDQIPVtGuQw"
      },
      "source": [
        "image_path = os.path.join('/content/drive/My Drive/Lung Segmentation/COVID-19')\n",
        "images = os.listdir(image_path)"
      ],
      "execution_count": null,
      "outputs": []
    },
    {
      "cell_type": "code",
      "metadata": {
        "id": "r6MlfnClHAo6"
      },
      "source": [
        "testing_files = set(os.listdir(image_path)) \n",
        "\n",
        "\n",
        "def getData(X_shape, flag = \"test\"):\n",
        "    im_array = []\n",
        "    \n",
        "    \n",
        "    if flag == \"test\":\n",
        "        for i in tqdm(testing_files): \n",
        "            im = cv2.resize(cv2.imread(os.path.join(image_path,i)),(X_shape,X_shape))[:,:,0]\n",
        "            im_array.append(im)\n",
        "            \n",
        "        \n",
        "        return im_array\n",
        "    \n",
        "    if flag == \"train\":\n",
        "        for i in tqdm(training_files): \n",
        "            im = cv2.resize(cv2.imread(os.path.join(image_path,i.split(\"_mask\")[0]+\".png\")),(X_shape,X_shape))[:,:,0]\n",
        "            mask = cv2.resize(cv2.imread(os.path.join(mask_path,i+\".png\")),(X_shape,X_shape))[:,:,0]\n",
        "\n",
        "            im_array.append(im)\n",
        "            mask_array.append(mask)\n",
        "\n",
        "        return im_array,mask_array"
      ],
      "execution_count": null,
      "outputs": []
    },
    {
      "cell_type": "code",
      "metadata": {
        "id": "xsAAMFLwHLCw"
      },
      "source": [
        "\n",
        "S_test = getData(dim,flag=\"test\")"
      ],
      "execution_count": null,
      "outputs": []
    },
    {
      "cell_type": "code",
      "metadata": {
        "id": "_SDWdtQdHke2"
      },
      "source": [
        "#perform sanity check\n",
        "\n",
        "def plotMask(X):\n",
        "    sample = []\n",
        "    \n",
        "    for i in range(6):\n",
        "        left = X[i]\n",
        "        right = X[i+1]\n",
        "        combined = np.hstack((left,right))\n",
        "        sample.append(combined)\n",
        "        \n",
        "        \n",
        "    for i in range(0,6,3):\n",
        "\n",
        "        plt.figure(figsize=(25,10))\n",
        "        \n",
        "        plt.subplot(2,3,1+i)\n",
        "        plt.imshow(sample[i])\n",
        "        \n",
        "        plt.subplot(2,3,2+i)\n",
        "        plt.imshow(sample[i+1])\n",
        "        \n",
        "        \n",
        "        plt.subplot(2,3,3+i)\n",
        "        plt.imshow(sample[i+2])\n",
        "        \n",
        "        plt.show()"
      ],
      "execution_count": null,
      "outputs": []
    },
    {
      "cell_type": "code",
      "metadata": {
        "id": "L-aoYDQvIPo2"
      },
      "source": [
        "plotMask(S_test)"
      ],
      "execution_count": null,
      "outputs": []
    },
    {
      "cell_type": "code",
      "metadata": {
        "id": "zf51Ikj3HkyI"
      },
      "source": [
        "S_test = np.array(S_test).reshape(len(S_test),dim,dim,1)"
      ],
      "execution_count": null,
      "outputs": []
    },
    {
      "cell_type": "code",
      "metadata": {
        "id": "ptRbPI5iIviI"
      },
      "source": [
        "validation_vol = (S_test-127.0)/127.0 "
      ],
      "execution_count": null,
      "outputs": []
    },
    {
      "cell_type": "code",
      "metadata": {
        "id": "MMyKOU5KJIPz"
      },
      "source": [
        "pred_candidates = np.random.randint(1,validation_vol.shape[0],10)\n",
        "preds = model.predict(validation_vol)\n",
        "\n",
        "plt.figure(figsize=(20,10))\n",
        "\n",
        "for i in range(0,9,3):\n",
        "    plt.subplot(3,3,i+1)\n",
        "    \n",
        "    plt.imshow(np.squeeze(validation_vol[pred_candidates[i]]))\n",
        "    plt.xlabel(\"Base Image\")\n",
        "    \n",
        "    \n",
        "    plt.subplot(3,3,i+2)\n",
        "    plt.imshow(np.squeeze(validation_vol[pred_candidates[i]]))\n",
        "    plt.xlabel(\"Mask\")\n",
        "    \n",
        "    plt.subplot(3,3,i+3)\n",
        "    plt.imshow(np.squeeze(preds[pred_candidates[i]]))\n",
        "    plt.xlabel(\"Pridiction\")"
      ],
      "execution_count": null,
      "outputs": []
    },
    {
      "cell_type": "code",
      "metadata": {
        "id": "UDhwLJ-QJkoG"
      },
      "source": [
        "plt.figure(figsize=(30,20))\n",
        "for i in range(0,21,3):\n",
        "    plt.subplot(7,3,i+1)\n",
        "    \n",
        "    plt.imshow(np.squeeze(validation_vol[i]))\n",
        "    plt.xlabel(\"Base Image\")\n",
        "    \n",
        "    \n",
        "    plt.subplot(7,3,i+2)\n",
        "    plt.imshow(np.squeeze(preds[i]))\n",
        "    plt.xlabel(\"Mask\")\n",
        "    \n",
        "    plt.subplot(7,3,i+3)\n",
        "    plt.imshow(np.squeeze(preds[i]))\n",
        "    plt.xlabel(\"Pridiction\")"
      ],
      "execution_count": null,
      "outputs": []
    },
    {
      "cell_type": "code",
      "metadata": {
        "id": "zj0rGbnFJ6QC"
      },
      "source": [
        "print(preds.shape)"
      ],
      "execution_count": null,
      "outputs": []
    },
    {
      "cell_type": "code",
      "metadata": {
        "id": "Ge0E_fl2KHvA"
      },
      "source": [
        "print(validation_vol.shape)"
      ],
      "execution_count": null,
      "outputs": []
    },
    {
      "cell_type": "code",
      "metadata": {
        "id": "VqXLXHZrLD6n"
      },
      "source": [
        "cd '/content/drive/My Drive/Lung Segmentation/'\n"
      ],
      "execution_count": null,
      "outputs": []
    },
    {
      "cell_type": "code",
      "metadata": {
        "id": "A8284BEQMpL_"
      },
      "source": [
        "np.save(\"preds\",preds)\n",
        "np.save(\"validation_vol\",validation_vol)\n",
        "#np.save(\"validation_seg\",validation_seg)"
      ],
      "execution_count": null,
      "outputs": []
    }
  ]
}